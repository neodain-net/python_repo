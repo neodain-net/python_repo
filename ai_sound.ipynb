{
 "cells": [
  {
   "cell_type": "markdown",
   "metadata": {},
   "source": [
    "## FFMpeg 에 대해서\n",
    "### 이미지 프레임을 추출해서 파일로 저장(openCV로도 가능)"
   ]
  },
  {
   "cell_type": "markdown",
   "metadata": {},
   "source": [
    "### ffmpeg-python\n",
    "* pip install ffmpeg-python"
   ]
  },
  {
   "cell_type": "code",
   "execution_count": null,
   "metadata": {},
   "outputs": [],
   "source": [
    "import os\n",
    "import ffmpeg\n",
    "\n",
    "if not os.path.isdir(\"../images/capture\"):\n",
    "    os.mkdir(\"../images/capture\")\n",
    "\n",
    "# try:\n",
    "#     ffmpeg.input(\"NO_FILE.mp4\").output(\"images/capture/dest%05d.jpg\", start_number=0).run(capture_stdout=True, capture_stderr=True)\n",
    "# except ffmpeg.Error as e:\n",
    "#     print('stdout:', e.stdout.decode('utf8'))\n",
    "#     print('stderr:', e.stderr.decode('utf8'))\n",
    "\n",
    "ffmpeg.input(\"../images/bts_dynamite.mp4\").output(\"../images/capture/dest%05d.jpg\", start_number=0).run(capture_stdout=True, capture_stderr=True)\n",
    "\n",
    "ffmpeg.input('../images/my_girl.mp4').output('../images/capture/src%05d.jpg', start_number=0).run(capture_stdout=True, capture_stderr=True)\n"
   ]
  }
 ],
 "metadata": {
  "kernelspec": {
   "display_name": "Python 3.10.5 64-bit",
   "language": "python",
   "name": "python3"
  },
  "language_info": {
   "codemirror_mode": {
    "name": "ipython",
    "version": 3
   },
   "file_extension": ".py",
   "mimetype": "text/x-python",
   "name": "python",
   "nbconvert_exporter": "python",
   "pygments_lexer": "ipython3",
   "version": "3.10.5"
  },
  "orig_nbformat": 4,
  "vscode": {
   "interpreter": {
    "hash": "1fa163922eb0b3709bbb5d8082b2465c9de796dbaacca80cbaa600e7fff3e4fe"
   }
  }
 },
 "nbformat": 4,
 "nbformat_minor": 2
}
